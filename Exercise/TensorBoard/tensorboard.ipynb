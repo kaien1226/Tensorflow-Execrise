{
 "cells": [
  {
   "cell_type": "code",
   "execution_count": null,
   "metadata": {},
   "outputs": [],
   "source": []
  },
  {
   "cell_type": "code",
   "execution_count": 1,
   "metadata": {},
   "outputs": [],
   "source": [
    "import tensorflow as tf\n",
    "\n",
    "with tf.name_scope('graph') as scope:\n",
    "     matrix1 = tf.constant([[3., 3.]],name ='matrix1')  #1 row by 2 column\n",
    "     matrix2 = tf.constant([[2.],[2.]],name ='matrix2') # 2 row by 1 column\n",
    "     product = tf.matmul(matrix1, matrix2,name='product')\n",
    "  \n",
    "sess = tf.Session()\n",
    "\n",
    "writer = tf.summary.FileWriter(\"logs/\", sess.graph)\n",
    "\n",
    "init = tf.global_variables_initializer()\n",
    "\n",
    "sess.run(init)"
   ]
  },
  {
   "cell_type": "code",
   "execution_count": 1,
   "metadata": {},
   "outputs": [
    {
     "name": "stdout",
     "output_type": "stream",
     "text": [
      "[1.0474303 2.2081418 3.2590823]\n"
     ]
    }
   ],
   "source": [
    "import tensorflow as tf\n",
    "a = tf.constant([1.0,2.0,3.0],name='input1')\n",
    "b = tf.Variable(tf.random_uniform([3]),name='input2')\n",
    "add = tf.add_n([a,b],name='addOP')\n",
    "with tf.Session() as sess:\n",
    "    sess.run(tf.global_variables_initializer())\n",
    "    writer = tf.summary.FileWriter(\"TensorBoard/test\",sess.graph)\n",
    "    print(sess.run(add))\n",
    "writer.close()"
   ]
  },
  {
   "cell_type": "code",
   "execution_count": 3,
   "metadata": {},
   "outputs": [
    {
     "name": "stdout",
     "output_type": "stream",
     "text": [
      "Extracting /tmp/data/train-images-idx3-ubyte.gz\n",
      "Extracting /tmp/data/train-labels-idx1-ubyte.gz\n",
      "Extracting /tmp/data/t10k-images-idx3-ubyte.gz\n",
      "Extracting /tmp/data/t10k-labels-idx1-ubyte.gz\n",
      "Phase1.0: 0.17199999\n",
      "Phase2.0: 0.6512999\n",
      "Phase3.0: 0.77239996\n",
      "Phase4.0: 0.78129995\n",
      "Phase5.0: 0.7823\n",
      "Phase6.0: 0.7855\n",
      "Phase7.0: 0.7855\n",
      "Phase8.0: 0.7867\n",
      "Phase9.0: 0.7872\n",
      "Phase10.0: 0.7877\n"
     ]
    }
   ],
   "source": [
    "from tensorflow.examples.tutorials.mnist import input_data\n",
    "import tensorflow as tf\n",
    "\n",
    "mnist = input_data.read_data_sets(\"/tmp/data/\", one_hot=True)\n",
    "\n",
    "batch_size = 100\n",
    "hidden1_nodes = 200\n",
    "with tf.name_scope('Input'):\n",
    "    x = tf.placeholder(tf.float32,shape=(None,784))\n",
    "    y = tf.placeholder(tf.float32,shape=(None,10))\n",
    "with tf.name_scope('Inference'):\n",
    "    w1 = tf.Variable(tf.random_normal([784,hidden1_nodes],stddev=0.1))\n",
    "    w2 = tf.Variable(tf.random_normal([hidden1_nodes,10],stddev=0.1))\n",
    "    b1 = tf.Variable(tf.random_normal([hidden1_nodes],stddev=0.1))\n",
    "    b2 = tf.Variable(tf.random_normal([10],stddev=0.1))\n",
    "    hidden = tf.nn.relu(tf.matmul(x,w1)+b1)\n",
    "    y_predict = tf.nn.relu(tf.matmul(hidden,w2)+b2)\n",
    "\n",
    "with tf.name_scope('Loss'):\n",
    "    cross_entropy = tf.reduce_mean(tf.nn.softmax_cross_entropy_with_logits(labels=y, logits=y_predict))\n",
    "with tf.name_scope('Train'):\n",
    "    train_step = tf.train.GradientDescentOptimizer(0.5).minimize(cross_entropy)\n",
    "with tf.name_scope('Accuracy'):\n",
    "    correct_prediction = tf.equal(tf.argmax(y, 1), tf.argmax(y_predict, 1))\n",
    "    accuracy = tf.reduce_mean(tf.cast(correct_prediction, tf.float32))\n",
    "\n",
    "\n",
    "with tf.Session() as sess:\n",
    "    sess.run(tf.global_variables_initializer())\n",
    "    for i in range(10000):\n",
    "        batch_xs, batch_ys = mnist.train.next_batch(batch_size)\n",
    "        sess.run(train_step, feed_dict={x: batch_xs, y: batch_ys})\n",
    "        if i%1000==0:\n",
    "            print ('Phase'+str(i/1000+1)+':',sess.run(accuracy, feed_dict={x: mnist.test.images, y: mnist.test.labels}))\n",
    "writer = tf.summary.FileWriter(\"./mnist_nn_log\",sess.graph)\n",
    "writer.close()"
   ]
  },
  {
   "cell_type": "code",
   "execution_count": null,
   "metadata": {},
   "outputs": [],
   "source": []
  }
 ],
 "metadata": {
  "kernelspec": {
   "display_name": "Python 3",
   "language": "python",
   "name": "python3"
  },
  "language_info": {
   "codemirror_mode": {
    "name": "ipython",
    "version": 3
   },
   "file_extension": ".py",
   "mimetype": "text/x-python",
   "name": "python",
   "nbconvert_exporter": "python",
   "pygments_lexer": "ipython3",
   "version": "3.6.6"
  }
 },
 "nbformat": 4,
 "nbformat_minor": 2
}
